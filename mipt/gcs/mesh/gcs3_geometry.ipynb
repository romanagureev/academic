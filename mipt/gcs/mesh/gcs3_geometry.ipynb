{
 "cells": [
  {
   "cell_type": "markdown",
   "metadata": {},
   "source": [
    "## Структура\n",
    "В этом ноутбуке проверка и исследование класса `Surface` и его методов."
   ]
  },
  {
   "cell_type": "code",
   "execution_count": 1,
   "metadata": {},
   "outputs": [],
   "source": [
    "import numpy as np\n",
    "import math\n",
    "import draw\n",
    "\n",
    "from common import *\n",
    "from surface import Surface\n",
    "\n",
    "%matplotlib inline"
   ]
  },
  {
   "cell_type": "code",
   "execution_count": 2,
   "metadata": {},
   "outputs": [],
   "source": [
    "dataset = 'datasets/teddy.obj'   # ADJUST"
   ]
  },
  {
   "cell_type": "markdown",
   "metadata": {},
   "source": [
    "Проверенный датасеты:\n",
    "- simplex (все ок)\n",
    "- teddy (все ок, кроме Шлафли)\n",
    "- dragon (не прорисовывались; Шлафли: 0.6140038130661708, -6826.831639349427, -497.1132568607541)"
   ]
  },
  {
   "cell_type": "code",
   "execution_count": 3,
   "metadata": {},
   "outputs": [
    {
     "data": {
      "application/vnd.jupyter.widget-view+json": {
       "model_id": "90986db6fd744375bf932a0a6860c9f2",
       "version_major": 2,
       "version_minor": 0
      },
      "text/plain": [
       "Renderer(camera=PerspectiveCamera(children=(DirectionalLight(color='#cccccc', intensity=0.5, position=(-3.0, 5…"
      ]
     },
     "metadata": {},
     "output_type": "display_data"
    }
   ],
   "source": [
    "surface = Surface.from_obj(dataset)\n",
    "surface.draw()"
   ]
  },
  {
   "cell_type": "code",
   "execution_count": 5,
   "metadata": {},
   "outputs": [
    {
     "name": "stdout",
     "output_type": "stream",
     "text": [
      "Volume: 8679.564581153883\n",
      "\n",
      "Angle defects sum: 12.566370614358958\n",
      "Euler characteristic: (V - E + F) * 2 * pi = 12.566370614359172\n",
      "diff: -2.149391775674303e-13, close to 0: True\n"
     ]
    }
   ],
   "source": [
    "print(f'Volume: {surface.volume()}')\n",
    "\n",
    "print()\n",
    "\n",
    "angle_defects_sum = sum(surface.angle_defects())\n",
    "euler_2_pi = 2 * math.pi * surface.Euler()\n",
    "print(f'Angle defects sum: {angle_defects_sum}')\n",
    "print(f'Euler characteristic: (V - E + F) * 2 * pi = {euler_2_pi}')\n",
    "diff = angle_defects_sum - euler_2_pi\n",
    "print(f'diff: {diff}, close to 0: {math.isclose(diff, 0, abs_tol=EPS)}')"
   ]
  },
  {
   "cell_type": "markdown",
   "metadata": {},
   "source": [
    "По дискретной теореме __Гаусса-Бонне__: $\\sum{d(v)} = 2\\pi\\chi(M)$"
   ]
  },
  {
   "cell_type": "code",
   "execution_count": 6,
   "metadata": {},
   "outputs": [],
   "source": [
    "step = 0.1\n",
    "for i in range(10):\n",
    "    surface.coordinates += np.array(surface.mean_curvature_flow()) * step"
   ]
  },
  {
   "cell_type": "code",
   "execution_count": 7,
   "metadata": {},
   "outputs": [
    {
     "data": {
      "application/vnd.jupyter.widget-view+json": {
       "model_id": "017831d13cd848318cc2368a40c82e21",
       "version_major": 2,
       "version_minor": 0
      },
      "text/plain": [
       "Renderer(camera=PerspectiveCamera(children=(DirectionalLight(color='#cccccc', intensity=0.5, position=(-3.0, 5…"
      ]
     },
     "metadata": {},
     "output_type": "display_data"
    }
   ],
   "source": [
    "surface.draw()"
   ]
  },
  {
   "cell_type": "markdown",
   "metadata": {},
   "source": [
    "Выпуклые части должны надуваться, у мишки их много: голова, руки, конечности. Они друг на друга налазят, поэтому ему немного плохо. Для проверки можно заменить значения потока на противоположные -- тогда он начнет тощать и становится плоским."
   ]
  },
  {
   "cell_type": "code",
   "execution_count": 8,
   "metadata": {},
   "outputs": [
    {
     "data": {
      "application/vnd.jupyter.widget-view+json": {
       "model_id": "e6a5b3f992bd4f3db4622f5cccc43b76",
       "version_major": 2,
       "version_minor": 0
      },
      "text/plain": [
       "Renderer(camera=PerspectiveCamera(children=(DirectionalLight(color='#cccccc', intensity=0.5, position=(-3.0, 5…"
      ]
     },
     "metadata": {},
     "output_type": "display_data"
    }
   ],
   "source": [
    "step = 0.1\n",
    "for i in range(20):\n",
    "    surface.coordinates -= np.array(surface.mean_curvature_flow()) * step\n",
    "surface.draw()"
   ]
  },
  {
   "cell_type": "markdown",
   "metadata": {},
   "source": [
    "__Schlafli Formula__: $\\sum_{i, j \\in E}{l_{ij} \\frac{d}{dt} \\phi_{ij}} = 0$, где $l_{ij}$ - длина ребра, $\\phi_{ij}$ - плоский угол между гранями."
   ]
  },
  {
   "cell_type": "code",
   "execution_count": 9,
   "metadata": {},
   "outputs": [
    {
     "name": "stdout",
     "output_type": "stream",
     "text": [
      "Schlafli, random < 0.5: 1.305413074620572e-09\n",
      "Schlafli, random < 1: 0.024684698929371862\n",
      "Schlafli, mean_curvature_flow * 0.1: 0.0005740115409285743\n"
     ]
    }
   ],
   "source": [
    "import random\n",
    "\n",
    "flows = {\n",
    "    'random < 0.5': [np.array([random.randrange(0, 1e3) * 1e-6 for _ in range(3)]) for _ in range(surface.V)],\n",
    "    'random < 1': [np.array([random.randrange(0, 1e9) * 1e-9 for _ in range(3)]) for _ in range(surface.V)],\n",
    "    'mean_curvature_flow * 0.1': np.array(surface.mean_curvature_flow()) * 0.1,\n",
    "}\n",
    "\n",
    "for name, flow in flows.items():\n",
    "    print(f'Schlafli, {name}: {surface.schlafli(flow)}')"
   ]
  },
  {
   "cell_type": "markdown",
   "metadata": {},
   "source": [
    "Для больших значений потока значение далеко от 0. Наверное стоит как-то по умному выбирать _t_ для поиска производной/придумывать что-то с погрешностью."
   ]
  },
  {
   "cell_type": "code",
   "execution_count": null,
   "metadata": {},
   "outputs": [],
   "source": []
  }
 ],
 "metadata": {
  "kernelspec": {
   "display_name": "Python 3",
   "language": "python",
   "name": "python3"
  },
  "language_info": {
   "codemirror_mode": {
    "name": "ipython",
    "version": 3
   },
   "file_extension": ".py",
   "mimetype": "text/x-python",
   "name": "python",
   "nbconvert_exporter": "python",
   "pygments_lexer": "ipython3",
   "version": "3.7.6"
  }
 },
 "nbformat": 4,
 "nbformat_minor": 4
}
